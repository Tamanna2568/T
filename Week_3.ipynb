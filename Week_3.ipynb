{
  "nbformat": 4,
  "nbformat_minor": 0,
  "metadata": {
    "colab": {
      "name": "Week_3.ipynb",
      "provenance": [],
      "mount_file_id": "1aNPTmgmkr1HkJco5u7K72DNLE16973pY",
      "authorship_tag": "ABX9TyMjsz7K9JQGTLl5pE3T85LG",
      "include_colab_link": true
    },
    "kernelspec": {
      "name": "python3",
      "display_name": "Python 3"
    }
  },
  "cells": [
    {
      "cell_type": "markdown",
      "metadata": {
        "id": "view-in-github",
        "colab_type": "text"
      },
      "source": [
        "<a href=\"https://colab.research.google.com/github/AlSajid/AI_Lab/blob/main/Week_3.ipynb\" target=\"_parent\"><img src=\"https://colab.research.google.com/assets/colab-badge.svg\" alt=\"Open In Colab\"/></a>"
      ]
    },
    {
      "cell_type": "code",
      "metadata": {
        "colab": {
          "base_uri": "https://localhost:8080/"
        },
        "id": "wvnlhhQIgmI4",
        "outputId": "1964f623-56c0-4540-9f7b-74c456b8b39e"
      },
      "source": [
        "#built-in functions\r\n",
        "\r\n",
        "print(\"Hi, I am semi-colon. Do you miss me?\")\r\n",
        "print(\"Let me know if you miss me or not. \")\r\n",
        "s=input()\r\n",
        "\r\n",
        "a=10\r\n",
        "b=21\r\n",
        "print(max(a,b))\r\n",
        "print(min(a,b))\r\n",
        "\r\n",
        "c=10.4\r\n",
        "d=int(c)\r\n",
        "print(d)\r\n",
        "\r\n",
        "e=\"python\"\r\n",
        "print(type(e))"
      ],
      "execution_count": 1,
      "outputs": [
        {
          "output_type": "stream",
          "text": [
            "Hi, I am semi-colon. Do you miss me?\n",
            "Let me know if you miss me or not. \n",
            "yes\n",
            "21\n",
            "10\n",
            "10\n",
            "<class 'str'>\n"
          ],
          "name": "stdout"
        }
      ]
    },
    {
      "cell_type": "code",
      "metadata": {
        "colab": {
          "base_uri": "https://localhost:8080/"
        },
        "id": "9QfPzPXvg9ii",
        "outputId": "b2f25382-dded-4b77-ed1f-fc84fbd609fd"
      },
      "source": [
        "#user defined function\r\n",
        "\r\n",
        "def add(a, b):\r\n",
        "    c=a+b\r\n",
        "    return c\r\n",
        "\r\n",
        "a=int(input(\"Enter a number: \"))\r\n",
        "b=int(input(\"Enter a number: \"))\r\n",
        "d=add(a,b)\r\n",
        "print(\"The sum is\", d)"
      ],
      "execution_count": 2,
      "outputs": [
        {
          "output_type": "stream",
          "text": [
            "Enter a number: 2\n",
            "Enter a number: 2\n",
            "The sum is 4\n"
          ],
          "name": "stdout"
        }
      ]
    },
    {
      "cell_type": "code",
      "metadata": {
        "colab": {
          "base_uri": "https://localhost:8080/"
        },
        "id": "bwLptYd8hDZJ",
        "outputId": "1ab89df6-7696-4a56-d991-0ce1a4fb1290"
      },
      "source": [
        "#function with multiple parameters\r\n",
        "\r\n",
        "def divisor(x,y,m):\r\n",
        "    if x%m==0 and y%m==0:\r\n",
        "        print(\"%d & %d are divisible by %d\"%(x,y,m))\r\n",
        "    elif x%m==0:\r\n",
        "        print(\"only %d is divisible by %d\"%(x,m))\r\n",
        "    elif y%m==0:\r\n",
        "        print(\"only %d is divisible by %d\"%(y,m))\r\n",
        "    else:\r\n",
        "        print(\"none of %d & %d is divisible by %d\"%(x,y,d))\r\n",
        "\r\n",
        "divisor(10,20,5)\r\n",
        "divisor(12,20,5)\r\n",
        "divisor(10,22,5)\r\n",
        "divisor(2,5,3)"
      ],
      "execution_count": 3,
      "outputs": [
        {
          "output_type": "stream",
          "text": [
            "10 & 20 are divisible by 5\n",
            "only 20 is divisible by 5\n",
            "only 10 is divisible by 5\n",
            "none of 2 & 5 is divisible by 4\n"
          ],
          "name": "stdout"
        }
      ]
    },
    {
      "cell_type": "code",
      "metadata": {
        "colab": {
          "base_uri": "https://localhost:8080/"
        },
        "id": "6ocilxEJhJYW",
        "outputId": "cfffe820-c46b-46fc-aa5c-c3246e895fcf"
      },
      "source": [
        "#function without parameter\r\n",
        "\r\n",
        "def summation():\r\n",
        "    a=3+8\r\n",
        "    return a\r\n",
        "\r\n",
        "b=summation()\r\n",
        "print(b)"
      ],
      "execution_count": 4,
      "outputs": [
        {
          "output_type": "stream",
          "text": [
            "11\n"
          ],
          "name": "stdout"
        }
      ]
    },
    {
      "cell_type": "code",
      "metadata": {
        "colab": {
          "base_uri": "https://localhost:8080/"
        },
        "id": "VEkAojlVhNAv",
        "outputId": "75189a6d-839f-44b1-dacb-774d808627b9"
      },
      "source": [
        "#function with default parameter value\r\n",
        "\r\n",
        "def check(a=0):\r\n",
        "    if a==0:\r\n",
        "        print(\"Zero\")\r\n",
        "    elif a>0:\r\n",
        "        print(\"Positive\")\r\n",
        "    else:\r\n",
        "        print(\"Negative\")\r\n",
        "\r\n",
        "check()     #without parameter\r\n",
        "check(-4)   #with parameter"
      ],
      "execution_count": 5,
      "outputs": [
        {
          "output_type": "stream",
          "text": [
            "Zero\n",
            "Negative\n"
          ],
          "name": "stdout"
        }
      ]
    },
    {
      "cell_type": "code",
      "metadata": {
        "colab": {
          "base_uri": "https://localhost:8080/"
        },
        "id": "GwNX9pdIhUaY",
        "outputId": "c1e0b34b-cd40-436f-e2d1-f49d3610fe86"
      },
      "source": [
        "#local scope\r\n",
        "\r\n",
        "def local_scope():\r\n",
        "    x=7\r\n",
        "    print(x)\r\n",
        "\r\n",
        "local_scope()"
      ],
      "execution_count": 7,
      "outputs": [
        {
          "output_type": "stream",
          "text": [
            "7\n"
          ],
          "name": "stdout"
        }
      ]
    },
    {
      "cell_type": "code",
      "metadata": {
        "colab": {
          "base_uri": "https://localhost:8080/"
        },
        "id": "8Gk5M7l_hgRW",
        "outputId": "e0bee4da-df97-46ef-830e-839095c60894"
      },
      "source": [
        "#local scope\r\n",
        "\r\n",
        "def local_scope():\r\n",
        "    x=7\r\n",
        "    return x\r\n",
        "\r\n",
        "a=local_scope()\r\n",
        "print(a)"
      ],
      "execution_count": 8,
      "outputs": [
        {
          "output_type": "stream",
          "text": [
            "7\n"
          ],
          "name": "stdout"
        }
      ]
    },
    {
      "cell_type": "code",
      "metadata": {
        "colab": {
          "base_uri": "https://localhost:8080/"
        },
        "id": "vNLMLjZrhsEH",
        "outputId": "9c8d68b8-6364-42cd-cfe1-e0739a31c7bf"
      },
      "source": [
        "#global scope\r\n",
        "\r\n",
        "x=10\r\n",
        "\r\n",
        "def global_scope():\r\n",
        "    print(x)\r\n",
        "\r\n",
        "print(x)\r\n",
        "global_scope()"
      ],
      "execution_count": 9,
      "outputs": [
        {
          "output_type": "stream",
          "text": [
            "10\n",
            "10\n"
          ],
          "name": "stdout"
        }
      ]
    },
    {
      "cell_type": "code",
      "metadata": {
        "colab": {
          "base_uri": "https://localhost:8080/"
        },
        "id": "TGd69WVYht_p",
        "outputId": "00624967-ab66-4239-c59c-5087a9f7344e"
      },
      "source": [
        "#global scope\r\n",
        "\r\n",
        "def global_scope():\r\n",
        "    global x\r\n",
        "    x=10\r\n",
        "\r\n",
        "global_scope()\r\n",
        "print(x)"
      ],
      "execution_count": 10,
      "outputs": [
        {
          "output_type": "stream",
          "text": [
            "10\n"
          ],
          "name": "stdout"
        }
      ]
    },
    {
      "cell_type": "code",
      "metadata": {
        "colab": {
          "base_uri": "https://localhost:8080/"
        },
        "id": "y2Pl0-n4i6Tn",
        "outputId": "bf42e77a-ef7f-4b14-f9c0-7082a21ec6b1"
      },
      "source": [
        "#python standard library\r\n",
        "#math module\r\n",
        "\r\n",
        "import math\r\n",
        "\r\n",
        "print(math.pi)          #value of pi\r\n",
        "\r\n",
        "x=9.2\r\n",
        "print(math.ceil(x))     #round to the smallest integer not less than x\r\n",
        "print(math.floor(x))    #rount to the largest integer not greater than x\r\n",
        "\r\n",
        "print(math.sin(78))     #trigonometric sine of x (x in radians)\r\n",
        "\r\n",
        "print(math.pow(2,3))    #2 to the power 3\r\n",
        "\r\n",
        "print(math.sqrt(16))    #square root of 16"
      ],
      "execution_count": 17,
      "outputs": [
        {
          "output_type": "stream",
          "text": [
            "3.141592653589793\n",
            "10\n",
            "9\n",
            "0.5139784559875352\n",
            "8.0\n",
            "4.0\n"
          ],
          "name": "stdout"
        }
      ]
    }
  ]
}