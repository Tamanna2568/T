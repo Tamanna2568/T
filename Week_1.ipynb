{
  "nbformat": 4,
  "nbformat_minor": 0,
  "metadata": {
    "colab": {
      "name": "Week 1.ipynb",
      "provenance": [],
      "authorship_tag": "ABX9TyNZFZWTOguKkqawb9yGcdES",
      "include_colab_link": true
    },
    "kernelspec": {
      "name": "python3",
      "display_name": "Python 3"
    }
  },
  "cells": [
    {
      "cell_type": "markdown",
      "metadata": {
        "id": "view-in-github",
        "colab_type": "text"
      },
      "source": [
        "<a href=\"https://colab.research.google.com/github/AlSajid/AI_Lab/blob/main/Week_1.ipynb\" target=\"_parent\"><img src=\"https://colab.research.google.com/assets/colab-badge.svg\" alt=\"Open In Colab\"/></a>"
      ]
    },
    {
      "cell_type": "code",
      "metadata": {
        "colab": {
          "base_uri": "https://localhost:8080/"
        },
        "id": "687I91wqyaGU",
        "outputId": "0b2eea57-4ec2-4f73-ab11-4902f52202f9"
      },
      "source": [
        "print(\"Hello World\")"
      ],
      "execution_count": null,
      "outputs": [
        {
          "output_type": "stream",
          "text": [
            "Hello World\n"
          ],
          "name": "stdout"
        }
      ]
    },
    {
      "cell_type": "code",
      "metadata": {
        "colab": {
          "base_uri": "https://localhost:8080/"
        },
        "id": "ckTFaP730NKG",
        "outputId": "7ff75e87-b766-4e3b-f292-99ee01aa138b"
      },
      "source": [
        "x=7\r\n",
        "y=3\r\n",
        "print(x+y)"
      ],
      "execution_count": null,
      "outputs": [
        {
          "output_type": "stream",
          "text": [
            "10\n"
          ],
          "name": "stdout"
        }
      ]
    },
    {
      "cell_type": "code",
      "metadata": {
        "colab": {
          "base_uri": "https://localhost:8080/"
        },
        "id": "knaZqOSz0YdO",
        "outputId": "3389299d-ec5d-40cb-d8da-7438cb19c926"
      },
      "source": [
        "name = \"Adam\"\r\n",
        "name2 = \"Eve\"\r\n",
        "\r\n",
        "print(name, name2)"
      ],
      "execution_count": null,
      "outputs": [
        {
          "output_type": "stream",
          "text": [
            "Adam Eve\n"
          ],
          "name": "stdout"
        }
      ]
    },
    {
      "cell_type": "code",
      "metadata": {
        "colab": {
          "base_uri": "https://localhost:8080/"
        },
        "id": "WXZsGgi532s4",
        "outputId": "961d1135-325c-4b42-f701-263d466e249f"
      },
      "source": [
        "x=10\r\n",
        "type(x)\r\n"
      ],
      "execution_count": null,
      "outputs": [
        {
          "output_type": "execute_result",
          "data": {
            "text/plain": [
              "int"
            ]
          },
          "metadata": {
            "tags": []
          },
          "execution_count": 4
        }
      ]
    },
    {
      "cell_type": "code",
      "metadata": {
        "colab": {
          "base_uri": "https://localhost:8080/"
        },
        "id": "d3_3FSwS36Wb",
        "outputId": "72edb5ab-2526-4424-d0ff-3ee2de5e3293"
      },
      "source": [
        "type(10.5)"
      ],
      "execution_count": null,
      "outputs": [
        {
          "output_type": "execute_result",
          "data": {
            "text/plain": [
              "float"
            ]
          },
          "metadata": {
            "tags": []
          },
          "execution_count": 5
        }
      ]
    },
    {
      "cell_type": "code",
      "metadata": {
        "colab": {
          "base_uri": "https://localhost:8080/"
        },
        "id": "BH4mUYWq3-GQ",
        "outputId": "e56720cb-96f2-4267-c546-7fd803ce0f55"
      },
      "source": [
        "type(name)"
      ],
      "execution_count": null,
      "outputs": [
        {
          "output_type": "execute_result",
          "data": {
            "text/plain": [
              "str"
            ]
          },
          "metadata": {
            "tags": []
          },
          "execution_count": 6
        }
      ]
    },
    {
      "cell_type": "code",
      "metadata": {
        "colab": {
          "base_uri": "https://localhost:8080/"
        },
        "id": "WT-Z27rv4B3p",
        "outputId": "f2b14f74-41e9-4cb2-94d8-b99bb0af2712"
      },
      "source": [
        "multiplication = 7*4\r\n",
        "print(multiplication)"
      ],
      "execution_count": null,
      "outputs": [
        {
          "output_type": "stream",
          "text": [
            "28\n"
          ],
          "name": "stdout"
        }
      ]
    },
    {
      "cell_type": "code",
      "metadata": {
        "colab": {
          "base_uri": "https://localhost:8080/"
        },
        "id": "Se8jMQjH4RRQ",
        "outputId": "f708cc82-5f2c-454e-92d6-b0866ecdc9cd"
      },
      "source": [
        "add = 10+15\r\n",
        "print(add)"
      ],
      "execution_count": null,
      "outputs": [
        {
          "output_type": "stream",
          "text": [
            "25\n"
          ],
          "name": "stdout"
        }
      ]
    },
    {
      "cell_type": "code",
      "metadata": {
        "colab": {
          "base_uri": "https://localhost:8080/"
        },
        "id": "t0eRYqrb4U_J",
        "outputId": "5d753daf-d48d-49c8-d807-194c30f3307d"
      },
      "source": [
        "sub = 40 - 8\r\n",
        "print(sub)"
      ],
      "execution_count": null,
      "outputs": [
        {
          "output_type": "stream",
          "text": [
            "32\n"
          ],
          "name": "stdout"
        }
      ]
    },
    {
      "cell_type": "code",
      "metadata": {
        "colab": {
          "base_uri": "https://localhost:8080/"
        },
        "id": "DtsLcluO4ZOB",
        "outputId": "c8655ef2-5359-4e40-f7c5-19e8eea2b8f1"
      },
      "source": [
        "Exponentiation = 2**10\r\n",
        "print(Exponentiation)"
      ],
      "execution_count": null,
      "outputs": [
        {
          "output_type": "stream",
          "text": [
            "1024\n"
          ],
          "name": "stdout"
        }
      ]
    },
    {
      "cell_type": "code",
      "metadata": {
        "colab": {
          "base_uri": "https://localhost:8080/"
        },
        "id": "LKp88uAs4jMx",
        "outputId": "bc6893c1-4183-477e-d3c4-a0ffd613f43c"
      },
      "source": [
        "True_Division = 7/4\r\n",
        "print(True_Division)"
      ],
      "execution_count": null,
      "outputs": [
        {
          "output_type": "stream",
          "text": [
            "1.75\n"
          ],
          "name": "stdout"
        }
      ]
    },
    {
      "cell_type": "code",
      "metadata": {
        "colab": {
          "base_uri": "https://localhost:8080/"
        },
        "id": "4S88wH8R4H3h",
        "outputId": "e250ab67-a249-4934-ea41-573e59cd1141"
      },
      "source": [
        "Floor_Division = 7//4\r\n",
        "print(Floor_Division)"
      ],
      "execution_count": null,
      "outputs": [
        {
          "output_type": "stream",
          "text": [
            "1\n"
          ],
          "name": "stdout"
        }
      ]
    },
    {
      "cell_type": "code",
      "metadata": {
        "colab": {
          "base_uri": "https://localhost:8080/"
        },
        "id": "OIlSnZb25byl",
        "outputId": "a8eb132b-d69d-415e-cb62-ab4aedc22373"
      },
      "source": [
        "remainder = 15%7\r\n",
        "print(remainder)"
      ],
      "execution_count": null,
      "outputs": [
        {
          "output_type": "stream",
          "text": [
            "1\n"
          ],
          "name": "stdout"
        }
      ]
    },
    {
      "cell_type": "code",
      "metadata": {
        "id": "rXl8PMPs5rCW"
      },
      "source": [
        ""
      ],
      "execution_count": null,
      "outputs": []
    },
    {
      "cell_type": "markdown",
      "metadata": {
        "id": "rznnLf-s6Nb9"
      },
      "source": [
        "**Excercises**"
      ]
    },
    {
      "cell_type": "code",
      "metadata": {
        "colab": {
          "base_uri": "https://localhost:8080/"
        },
        "id": "bnPC3D456WEL",
        "outputId": "24b3b344-25f8-4eb7-ec61-1de4c499b6b1"
      },
      "source": [
        "x=2\r\n",
        "y=3\r\n",
        "\r\n",
        "print('x =', x)"
      ],
      "execution_count": null,
      "outputs": [
        {
          "output_type": "stream",
          "text": [
            "x = 2\n"
          ],
          "name": "stdout"
        }
      ]
    },
    {
      "cell_type": "code",
      "metadata": {
        "colab": {
          "base_uri": "https://localhost:8080/"
        },
        "id": "E6Rp-eMX6xp5",
        "outputId": "e7e8e64b-40ab-4ecc-a784-31e329de6189"
      },
      "source": [
        "print('Value of ', x, '+', x, (x+x))"
      ],
      "execution_count": null,
      "outputs": [
        {
          "output_type": "stream",
          "text": [
            "Value of  2 + 2 4\n"
          ],
          "name": "stdout"
        }
      ]
    },
    {
      "cell_type": "code",
      "metadata": {
        "colab": {
          "base_uri": "https://localhost:8080/"
        },
        "id": "iRXQlPQm6yJq",
        "outputId": "1e8f89ed-6539-42aa-bb53-8b7420eddfc3"
      },
      "source": [
        "print('x=')"
      ],
      "execution_count": null,
      "outputs": [
        {
          "output_type": "stream",
          "text": [
            "x=\n"
          ],
          "name": "stdout"
        }
      ]
    },
    {
      "cell_type": "code",
      "metadata": {
        "colab": {
          "base_uri": "https://localhost:8080/"
        },
        "id": "2VFFx3wC6iiE",
        "outputId": "a0fb4b7f-061b-4fdc-c50e-40db20427e88"
      },
      "source": [
        "print((x+y), '=', (y+x))"
      ],
      "execution_count": null,
      "outputs": [
        {
          "output_type": "stream",
          "text": [
            "5 = 5\n"
          ],
          "name": "stdout"
        }
      ]
    }
  ]
}