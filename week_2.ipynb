{
  "nbformat": 4,
  "nbformat_minor": 0,
  "metadata": {
    "colab": {
      "name": "week 2.ipynb",
      "provenance": [],
      "authorship_tag": "ABX9TyOjj3pxSOjDgWryGAO3WZtt",
      "include_colab_link": true
    },
    "kernelspec": {
      "name": "python3",
      "display_name": "Python 3"
    }
  },
  "cells": [
    {
      "cell_type": "markdown",
      "metadata": {
        "id": "view-in-github",
        "colab_type": "text"
      },
      "source": [
        "<a href=\"https://colab.research.google.com/github/AlSajid/AI_Lab/blob/main/week_2.ipynb\" target=\"_parent\"><img src=\"https://colab.research.google.com/assets/colab-badge.svg\" alt=\"Open In Colab\"/></a>"
      ]
    },
    {
      "cell_type": "code",
      "metadata": {
        "colab": {
          "base_uri": "https://localhost:8080/"
        },
        "id": "idpOkNO49rMQ",
        "outputId": "9005837c-0487-4298-b4c6-8550b38cdb05"
      },
      "source": [
        "grade = 85\r\n",
        "if grade >=  60:\r\n",
        "  print(\"passed\")"
      ],
      "execution_count": 1,
      "outputs": [
        {
          "output_type": "stream",
          "text": [
            "passed\n"
          ],
          "name": "stdout"
        }
      ]
    },
    {
      "cell_type": "code",
      "metadata": {
        "colab": {
          "base_uri": "https://localhost:8080/"
        },
        "id": "xfJUnPVTBn10",
        "outputId": "e5c3a191-6a31-4b39-e5a5-45260df9c276"
      },
      "source": [
        "grade = 85\r\n",
        "if grade >= 60:\r\n",
        "  print(\"passed\")\r\n",
        "else:\r\n",
        "  print(\"fail\")"
      ],
      "execution_count": 2,
      "outputs": [
        {
          "output_type": "stream",
          "text": [
            "passed\n"
          ],
          "name": "stdout"
        }
      ]
    },
    {
      "cell_type": "code",
      "metadata": {
        "colab": {
          "base_uri": "https://localhost:8080/"
        },
        "id": "8xHxOn05B3KQ",
        "outputId": "1c632b35-2b16-40a4-b148-94b7f66d53ff"
      },
      "source": [
        "result = ('Passed' if grade >= 60 else 'Failed')\r\n",
        "print(result)"
      ],
      "execution_count": 3,
      "outputs": [
        {
          "output_type": "stream",
          "text": [
            "Passed\n"
          ],
          "name": "stdout"
        }
      ]
    },
    {
      "cell_type": "code",
      "metadata": {
        "colab": {
          "base_uri": "https://localhost:8080/"
        },
        "id": "RLsKrgGtCpS9",
        "outputId": "3291a0c7-b379-4822-a859-31f61f8f6313"
      },
      "source": [
        "grade = 77\r\n",
        "\r\n",
        "if grade >= 90:\r\n",
        "  print('A')\r\n",
        "elif grade >= 80:\r\n",
        "  print('B')\r\n",
        "elif grade >= 70:\r\n",
        "  print('C')\r\n",
        "elif grade >= 60:\r\n",
        "  print('D')\r\n",
        "else:\r\n",
        "  print('F')"
      ],
      "execution_count": 4,
      "outputs": [
        {
          "output_type": "stream",
          "text": [
            "C\n"
          ],
          "name": "stdout"
        }
      ]
    },
    {
      "cell_type": "code",
      "metadata": {
        "colab": {
          "base_uri": "https://localhost:8080/"
        },
        "id": "X21BrRqDFYua",
        "outputId": "d89da82c-b802-4ab7-c7ca-9ec97fc625b1"
      },
      "source": [
        "number = 1\r\n",
        "\r\n",
        "while (number < 10):\r\n",
        "  print(number, end= \" \")\r\n",
        "  number += 1"
      ],
      "execution_count": 5,
      "outputs": [
        {
          "output_type": "stream",
          "text": [
            "1 2 3 4 5 6 7 8 9 "
          ],
          "name": "stdout"
        }
      ]
    },
    {
      "cell_type": "code",
      "metadata": {
        "colab": {
          "base_uri": "https://localhost:8080/"
        },
        "id": "nlLob9FUFmMp",
        "outputId": "c67a13a6-27e7-49e3-906b-879115af9f3c"
      },
      "source": [
        "product = 3\r\n",
        "\r\n",
        "while product <= 50:\r\n",
        "  product = product*3\r\n",
        "  print(product)"
      ],
      "execution_count": 6,
      "outputs": [
        {
          "output_type": "stream",
          "text": [
            "9\n",
            "27\n",
            "81\n"
          ],
          "name": "stdout"
        }
      ]
    },
    {
      "cell_type": "code",
      "metadata": {
        "colab": {
          "base_uri": "https://localhost:8080/"
        },
        "id": "pcLmV_JEF1dL",
        "outputId": "c5c28efa-cf23-45e4-9d57-7ba69a7ca59d"
      },
      "source": [
        "for character in \"programming\":\r\n",
        "  print(character, end = \" \")"
      ],
      "execution_count": 7,
      "outputs": [
        {
          "output_type": "stream",
          "text": [
            "p r o g r a m m i n g "
          ],
          "name": "stdout"
        }
      ]
    },
    {
      "cell_type": "code",
      "metadata": {
        "colab": {
          "base_uri": "https://localhost:8080/"
        },
        "id": "F6p-9sgVGMyP",
        "outputId": "2c80f4ab-48a9-4911-933b-ca1f16061d93"
      },
      "source": [
        "total = 0\r\n",
        "\r\n",
        "for number in range (1000001):\r\n",
        "  total = total + number\r\n",
        "print(total)"
      ],
      "execution_count": 8,
      "outputs": [
        {
          "output_type": "stream",
          "text": [
            "500000500000\n"
          ],
          "name": "stdout"
        }
      ]
    },
    {
      "cell_type": "code",
      "metadata": {
        "colab": {
          "base_uri": "https://localhost:8080/"
        },
        "id": "ThYJbs01HZGZ",
        "outputId": "4f56c34c-f6c5-45d5-c200-f5cba81ea89c"
      },
      "source": [
        "for number in range (5, 10):\r\n",
        "  print(number, end= \" \")"
      ],
      "execution_count": 9,
      "outputs": [
        {
          "output_type": "stream",
          "text": [
            "5 6 7 8 9 "
          ],
          "name": "stdout"
        }
      ]
    },
    {
      "cell_type": "code",
      "metadata": {
        "colab": {
          "base_uri": "https://localhost:8080/"
        },
        "id": "o_hXR_CwHiBu",
        "outputId": "6b2e149a-7a04-4e42-f576-7d48097b3f41"
      },
      "source": [
        "for number in range (0, 10, 2):\r\n",
        "  print(number, end = \" \")"
      ],
      "execution_count": 10,
      "outputs": [
        {
          "output_type": "stream",
          "text": [
            "0 2 4 6 8 "
          ],
          "name": "stdout"
        }
      ]
    },
    {
      "cell_type": "code",
      "metadata": {
        "colab": {
          "base_uri": "https://localhost:8080/"
        },
        "id": "lK_PZGHEHpyU",
        "outputId": "72a15ec5-87cc-49b4-8d03-184065f459f7"
      },
      "source": [
        "for number in range (10, 0, -2):\r\n",
        "  print(number, end=\" \")"
      ],
      "execution_count": 11,
      "outputs": [
        {
          "output_type": "stream",
          "text": [
            "10 8 6 4 2 "
          ],
          "name": "stdout"
        }
      ]
    },
    {
      "cell_type": "code",
      "metadata": {
        "colab": {
          "base_uri": "https://localhost:8080/"
        },
        "id": "vz5UsT2jIFFA",
        "outputId": "999e12c1-c4ca-4457-aa47-951813de90b1"
      },
      "source": [
        "number = int (input())"
      ],
      "execution_count": 12,
      "outputs": [
        {
          "output_type": "stream",
          "text": [
            "5\n"
          ],
          "name": "stdout"
        }
      ]
    },
    {
      "cell_type": "code",
      "metadata": {
        "colab": {
          "base_uri": "https://localhost:8080/"
        },
        "id": "HuGlOcUPIKiO",
        "outputId": "20155f49-3836-444f-941f-32479713438a"
      },
      "source": [
        "for i in range (1, 11):\r\n",
        "  print(number, \"x\", i, \"=\", number*i)"
      ],
      "execution_count": 13,
      "outputs": [
        {
          "output_type": "stream",
          "text": [
            "5 x 1 = 5\n",
            "5 x 2 = 10\n",
            "5 x 3 = 15\n",
            "5 x 4 = 20\n",
            "5 x 5 = 25\n",
            "5 x 6 = 30\n",
            "5 x 7 = 35\n",
            "5 x 8 = 40\n",
            "5 x 9 = 45\n",
            "5 x 10 = 50\n"
          ],
          "name": "stdout"
        }
      ]
    },
    {
      "cell_type": "code",
      "metadata": {
        "colab": {
          "base_uri": "https://localhost:8080/"
        },
        "id": "lU3bbkV8IghV",
        "outputId": "35e21af6-cb24-4821-ff08-1708e7b918bc"
      },
      "source": [
        "for left in range(7):\r\n",
        "    for right in range(left,7):\r\n",
        "        print(\"[\"+str(left)+\"|\"+str(right)+\"]\", end =\" \")\r\n",
        "    print()"
      ],
      "execution_count": 16,
      "outputs": [
        {
          "output_type": "stream",
          "text": [
            "[0|0] [0|1] [0|2] [0|3] [0|4] [0|5] [0|6] \n",
            "[1|1] [1|2] [1|3] [1|4] [1|5] [1|6] \n",
            "[2|2] [2|3] [2|4] [2|5] [2|6] \n",
            "[3|3] [3|4] [3|5] [3|6] \n",
            "[4|4] [4|5] [4|6] \n",
            "[5|5] [5|6] \n",
            "[6|6] \n"
          ],
          "name": "stdout"
        }
      ]
    },
    {
      "cell_type": "code",
      "metadata": {
        "colab": {
          "base_uri": "https://localhost:8080/"
        },
        "id": "w8LphxN_Iz_s",
        "outputId": "0664cd21-b462-40e2-8c85-89d07e2e338e"
      },
      "source": [
        "for number in range(10):\r\n",
        "  if  number==5:\r\n",
        "    break\r\n",
        "  print(number, end=\" \")"
      ],
      "execution_count": 17,
      "outputs": [
        {
          "output_type": "stream",
          "text": [
            "0 1 2 3 4 "
          ],
          "name": "stdout"
        }
      ]
    },
    {
      "cell_type": "code",
      "metadata": {
        "colab": {
          "base_uri": "https://localhost:8080/"
        },
        "id": "C7GCC0tRI4wX",
        "outputId": "d8e6dbf6-66b1-445b-dac2-e0d74f27f84a"
      },
      "source": [
        "for number in range(10):\r\n",
        "  if  number==5:\r\n",
        "    continue\r\n",
        "  print(number, end=\" \")"
      ],
      "execution_count": 18,
      "outputs": [
        {
          "output_type": "stream",
          "text": [
            "0 1 2 3 4 6 7 8 9 "
          ],
          "name": "stdout"
        }
      ]
    },
    {
      "cell_type": "code",
      "metadata": {
        "colab": {
          "base_uri": "https://localhost:8080/"
        },
        "id": "xV1ewlMcJPUq",
        "outputId": "43ef6a5e-0f79-44a6-d9c0-20169f6c0963"
      },
      "source": [
        "# Extremely Basic\r\n",
        "\r\n",
        "a = input()\r\n",
        "b = input()\r\n",
        "\r\n",
        "X = int(a) + int(b)\r\n",
        "\r\n",
        "print (\"X =\", X)"
      ],
      "execution_count": 24,
      "outputs": [
        {
          "output_type": "stream",
          "text": [
            "10\n",
            "9\n",
            "X =  19\n",
            "\n"
          ],
          "name": "stdout"
        }
      ]
    },
    {
      "cell_type": "code",
      "metadata": {
        "colab": {
          "base_uri": "https://localhost:8080/"
        },
        "id": "SbWsqtPDNzEN",
        "outputId": "69d2f1cc-8df6-4380-d58f-4a126af41bab"
      },
      "source": [
        "# Area of a Circle\r\n",
        "import math\r\n",
        "r = float(input())\r\n",
        "\r\n",
        "a = math.pi * (pow(r,2))\r\n",
        "\r\n",
        "print(\"A=%.4f\"% a)"
      ],
      "execution_count": 44,
      "outputs": [
        {
          "output_type": "stream",
          "text": [
            "2\n",
            "A=12.5664\n"
          ],
          "name": "stdout"
        }
      ]
    },
    {
      "cell_type": "code",
      "metadata": {
        "colab": {
          "base_uri": "https://localhost:8080/"
        },
        "id": "B-486AZQYz5j",
        "outputId": "3ff6e661-13c4-470f-86a4-16177c7fd7c7"
      },
      "source": [
        "# Difference\r\n",
        "a= int(input())\r\n",
        "b= int(input())\r\n",
        "c= int(input())\r\n",
        "d= int(input())\r\n",
        "\r\n",
        "difference=((a * b) - (c * d))\r\n",
        "\r\n",
        "print(\"DIFERENCA = %d\" %difference)"
      ],
      "execution_count": 48,
      "outputs": [
        {
          "output_type": "stream",
          "text": [
            "5\n",
            "6\n",
            "7\n",
            "8\n",
            "DIFERENCA = -26\n"
          ],
          "name": "stdout"
        }
      ]
    },
    {
      "cell_type": "code",
      "metadata": {
        "colab": {
          "base_uri": "https://localhost:8080/"
        },
        "id": "rygewPf5fJVr",
        "outputId": "1bc326a2-76c9-4b32-8d72-c37867e2d1ac"
      },
      "source": [
        "n = int(input())\r\n",
        "\r\n",
        "a = n // 365\r\n",
        "n = n - a*365\r\n",
        "\r\n",
        "m = n // 30\r\n",
        "n = n - m*30\r\n",
        "\r\n",
        "d = n\r\n",
        "\r\n",
        "print('{} ano(s)'.format(a))\r\n",
        "print('{} mes(es)'.format(m))\r\n",
        "print('{} dia(s)'.format(d))"
      ],
      "execution_count": 49,
      "outputs": [
        {
          "output_type": "stream",
          "text": [
            "400\n",
            "1 ano(s)\n",
            "1 mes(es)\n",
            "5 dia(s)\n"
          ],
          "name": "stdout"
        }
      ]
    }
  ]
}